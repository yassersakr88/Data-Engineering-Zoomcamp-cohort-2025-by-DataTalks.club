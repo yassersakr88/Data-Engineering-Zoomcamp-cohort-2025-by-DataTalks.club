{
 "cells": [
  {
   "cell_type": "code",
   "execution_count": 1,
   "id": "88226e9a",
   "metadata": {},
   "outputs": [
    {
     "name": "stderr",
     "output_type": "stream",
     "text": [
      "Setting default log level to \"WARN\".\n",
      "To adjust logging level use sc.setLogLevel(newLevel). For SparkR, use setLogLevel(newLevel).\n",
      "25/03/07 03:29:54 WARN NativeCodeLoader: Unable to load native-hadoop library for your platform... using builtin-java classes where applicable\n",
      "25/03/07 03:29:55 WARN Utils: Service 'SparkUI' could not bind on port 4040. Attempting port 4041.\n"
     ]
    }
   ],
   "source": [
    "import pyspark\n",
    "from pyspark.sql import SparkSession\n",
    "\n",
    "# Stop existing session if running\n",
    "try:\n",
    "    spark.stop()\n",
    "except:\n",
    "    pass\n",
    "\n",
    "spark = SparkSession.builder \\\n",
    "    .master(\"local[*]\") \\\n",
    "    .appName('TripsDataAnalysis') \\\n",
    "    .getOrCreate()"
   ]
  },
  {
   "cell_type": "markdown",
   "id": "2e6bfc82",
   "metadata": {},
   "source": [
    "### Question 1: \n",
    "\n",
    "**Install Spark and PySpark** \n",
    "\n",
    "- Install Spark\n",
    "- Run PySpark\n",
    "- Create a local spark session\n",
    "- Execute spark.version.\n",
    "\n",
    "What's the output?\n",
    "\n",
    "#### Answer -> 3.5.5"
   ]
  },
  {
   "cell_type": "code",
   "execution_count": 2,
   "id": "18998282",
   "metadata": {},
   "outputs": [
    {
     "data": {
      "text/plain": [
       "'3.5.5'"
      ]
     },
     "execution_count": 2,
     "metadata": {},
     "output_type": "execute_result"
    }
   ],
   "source": [
    "spark.version"
   ]
  },
  {
   "cell_type": "code",
   "execution_count": 3,
   "id": "c68d6ba0",
   "metadata": {
    "scrolled": true
   },
   "outputs": [
    {
     "name": "stderr",
     "output_type": "stream",
     "text": [
      "                                                                                "
     ]
    },
    {
     "name": "stdout",
     "output_type": "stream",
     "text": [
      "+--------------------+-------------------+-------------------+------------+------------+-------+----------------------+\n",
      "|dispatching_base_num|    pickup_datetime|   dropOff_datetime|PUlocationID|DOlocationID|SR_Flag|Affiliated_base_number|\n",
      "+--------------------+-------------------+-------------------+------------+------------+-------+----------------------+\n",
      "|              B00009|2019-10-01 00:23:00|2019-10-01 00:35:00|         264|         264|   NULL|                B00009|\n",
      "|              B00013|2019-10-01 00:11:29|2019-10-01 00:13:22|         264|         264|   NULL|                B00013|\n",
      "|              B00014|2019-10-01 00:11:43|2019-10-01 00:37:20|         264|         264|   NULL|                B00014|\n",
      "|              B00014|2019-10-01 00:56:29|2019-10-01 00:57:47|         264|         264|   NULL|                B00014|\n",
      "|              B00014|2019-10-01 00:23:09|2019-10-01 00:28:27|         264|         264|   NULL|                B00014|\n",
      "|     B00021         |2019-10-01 00:00:48|2019-10-01 00:07:12|         129|         129|   NULL|       B00021         |\n",
      "|     B00021         |2019-10-01 00:47:23|2019-10-01 00:53:25|          57|          57|   NULL|       B00021         |\n",
      "|     B00021         |2019-10-01 00:10:06|2019-10-01 00:19:50|         173|         173|   NULL|       B00021         |\n",
      "|     B00021         |2019-10-01 00:51:37|2019-10-01 01:06:14|         226|         226|   NULL|       B00021         |\n",
      "|     B00021         |2019-10-01 00:28:23|2019-10-01 00:34:33|          56|          56|   NULL|       B00021         |\n",
      "|     B00021         |2019-10-01 00:31:17|2019-10-01 00:51:52|          82|          82|   NULL|       B00021         |\n",
      "|              B00037|2019-10-01 00:07:41|2019-10-01 00:15:23|         264|          71|   NULL|                B00037|\n",
      "|              B00037|2019-10-01 00:13:38|2019-10-01 00:25:51|         264|          39|   NULL|                B00037|\n",
      "|              B00037|2019-10-01 00:42:40|2019-10-01 00:53:47|         264|         188|   NULL|                B00037|\n",
      "|              B00037|2019-10-01 00:58:46|2019-10-01 01:10:11|         264|          91|   NULL|                B00037|\n",
      "|              B00037|2019-10-01 00:09:49|2019-10-01 00:14:37|         264|          71|   NULL|                B00037|\n",
      "|              B00037|2019-10-01 00:22:35|2019-10-01 00:36:53|         264|          35|   NULL|                B00037|\n",
      "|              B00037|2019-10-01 00:54:27|2019-10-01 01:03:37|         264|          61|   NULL|                B00037|\n",
      "|              B00037|2019-10-01 00:08:12|2019-10-01 00:28:47|         264|         198|   NULL|                B00037|\n",
      "|              B00053|2019-10-01 00:05:24|2019-10-01 00:53:03|         264|         264|   NULL|                  #N/A|\n",
      "+--------------------+-------------------+-------------------+------------+------------+-------+----------------------+\n",
      "only showing top 20 rows\n",
      "\n"
     ]
    }
   ],
   "source": [
    "df_fhv = spark.read \\\n",
    "                .option('header', 'true') \\\n",
    "                .csv('/home/yassersakr88/de-zoomcamp/5_batch/notebooks/fhv_tripdata_2019-10.csv.gz')\n",
    "df_fhv.show()"
   ]
  },
  {
   "cell_type": "code",
   "execution_count": 4,
   "id": "3a1c7648",
   "metadata": {},
   "outputs": [],
   "source": [
    "df_fhv = df_fhv.repartition(6)"
   ]
  },
  {
   "cell_type": "code",
   "execution_count": 5,
   "id": "54eaee4d-0d4f-4944-8b6d-447d517d5c5a",
   "metadata": {},
   "outputs": [
    {
     "name": "stdout",
     "output_type": "stream",
     "text": [
      "./fhv_partitions:\n",
      "total 39M\n",
      "-rw-r--r-- 1 yassersakr88 yassersakr88 6.5M Mar  6 23:09 part-00000-3443a95c-b15e-4763-937b-3693002d1fe7-c000.snappy.parquet\n",
      "-rw-r--r-- 1 yassersakr88 yassersakr88 6.5M Mar  6 23:09 part-00001-3443a95c-b15e-4763-937b-3693002d1fe7-c000.snappy.parquet\n",
      "-rw-r--r-- 1 yassersakr88 yassersakr88 6.5M Mar  6 23:09 part-00002-3443a95c-b15e-4763-937b-3693002d1fe7-c000.snappy.parquet\n",
      "-rw-r--r-- 1 yassersakr88 yassersakr88 6.5M Mar  6 23:09 part-00003-3443a95c-b15e-4763-937b-3693002d1fe7-c000.snappy.parquet\n",
      "-rw-r--r-- 1 yassersakr88 yassersakr88 6.5M Mar  6 23:09 part-00004-3443a95c-b15e-4763-937b-3693002d1fe7-c000.snappy.parquet\n",
      "-rw-r--r-- 1 yassersakr88 yassersakr88 6.5M Mar  6 23:09 part-00005-3443a95c-b15e-4763-937b-3693002d1fe7-c000.snappy.parquet\n",
      "-rw-r--r-- 1 yassersakr88 yassersakr88    0 Mar  6 23:09 _SUCCESS\n"
     ]
    }
   ],
   "source": [
    "!ls -lhR ./fhv_partitions"
   ]
  },
  {
   "cell_type": "markdown",
   "id": "0b348a0c",
   "metadata": {},
   "source": [
    "### Question 2: \n",
    "\n",
    "**FHV October 2019**\n",
    "\n",
    "Read the October 2019 FHV into a Spark Dataframe with a schema as we did in the lessons.\n",
    "\n",
    "Repartition the Dataframe to 6 partitions and save it to parquet.\n",
    "\n",
    "What is the average size of the Parquet (ending with .parquet extension) Files that were created (in MB)? Select the answer which most closely matches.\n",
    "\n",
    "- 1MB\n",
    "- 6MB\n",
    "- 25MB\n",
    "- 87MB\n",
    "\n",
    "#### Answer -> 6 MB"
   ]
  },
  {
   "cell_type": "code",
   "execution_count": 6,
   "id": "a00a75c6",
   "metadata": {},
   "outputs": [
    {
     "name": "stderr",
     "output_type": "stream",
     "text": [
      "                                                                                "
     ]
    }
   ],
   "source": [
    "df_fhv.write.parquet('fhv/2019/10/', mode='overwrite')"
   ]
  },
  {
   "cell_type": "code",
   "execution_count": 7,
   "id": "8b6c7d90",
   "metadata": {},
   "outputs": [],
   "source": [
    "df_fhv.createOrReplaceTempView('trips_data_oct_2019')"
   ]
  },
  {
   "cell_type": "code",
   "execution_count": 8,
   "id": "946357e0",
   "metadata": {},
   "outputs": [
    {
     "name": "stderr",
     "output_type": "stream",
     "text": [
      "[Stage 5:>                                                          (0 + 1) / 1]"
     ]
    },
    {
     "name": "stdout",
     "output_type": "stream",
     "text": [
      "+--------+\n",
      "|count(1)|\n",
      "+--------+\n",
      "|   62610|\n",
      "+--------+\n",
      "\n"
     ]
    },
    {
     "name": "stderr",
     "output_type": "stream",
     "text": [
      "                                                                                "
     ]
    }
   ],
   "source": [
    "spark.sql(\"\"\"\n",
    "SELECT\n",
    "    count(1)\n",
    "FROM\n",
    "    trips_data_oct_2019\n",
    "WHERE\n",
    "    pickup_datetime LIKE '2019-10-15%'\n",
    "\"\"\").show()"
   ]
  },
  {
   "cell_type": "markdown",
   "id": "6f7e06be",
   "metadata": {},
   "source": [
    "### Question 3: \n",
    "\n",
    "**Count records** \n",
    "\n",
    "How many taxi trips were there on the 15th of October?\n",
    "\n",
    "Consider only trips that started on the 15th of October.\n",
    "\n",
    "- 108,164\n",
    "- 12,856\n",
    "- 452,470\n",
    "- 62,610\n",
    "\n",
    "#### Answer -> 62,610"
   ]
  },
  {
   "cell_type": "code",
   "execution_count": 9,
   "id": "c39dcb30",
   "metadata": {},
   "outputs": [
    {
     "data": {
      "text/plain": [
       "['dispatching_base_num',\n",
       " 'pickup_datetime',\n",
       " 'dropOff_datetime',\n",
       " 'PUlocationID',\n",
       " 'DOlocationID',\n",
       " 'SR_Flag',\n",
       " 'Affiliated_base_number']"
      ]
     },
     "execution_count": 9,
     "metadata": {},
     "output_type": "execute_result"
    }
   ],
   "source": [
    "df_fhv.columns"
   ]
  },
  {
   "cell_type": "code",
   "execution_count": null,
   "id": "71be5382",
   "metadata": {},
   "outputs": [
    {
     "name": "stderr",
     "output_type": "stream",
     "text": [
      "[Stage 11:>                                                         (0 + 1) / 1]"
     ]
    }
   ],
   "source": [
    "spark.sql(\"\"\"\n",
    "SELECT\n",
    "    (UNIX_TIMESTAMP(dropOff_datetime) - UNIX_TIMESTAMP(pickup_datetime)) / 3600 AS trip_length_hrs \n",
    "FROM\n",
    "    trips_data_oct_2019\n",
    "ORDER BY\n",
    "    trip_length_hrs DESC\n",
    "LIMIT 1\n",
    "\"\"\").show()"
   ]
  },
  {
   "cell_type": "markdown",
   "id": "acce647c",
   "metadata": {},
   "source": [
    "### Question 4: \n",
    "\n",
    "**Longest trip for each day** \n",
    "\n",
    "What is the length of the longest trip in the dataset in hours?\n",
    "\n",
    "- 631,152.50 Hours\n",
    "- 243.44 Hours\n",
    "- 7.68 Hours\n",
    "- 3.32 Hours\n",
    "\n",
    "#### Answer -> 631,152.50 Hours"
   ]
  },
  {
   "cell_type": "markdown",
   "id": "7d974e39",
   "metadata": {},
   "source": [
    "### Question 5: \n",
    "\n",
    "**User Interface**\n",
    "\n",
    "Spark’s User Interface which shows the application's dashboard runs on which local port?\n",
    "\n",
    "- 80\n",
    "- 443\n",
    "- 4040\n",
    "- 8080\n",
    "\n",
    "#### Answer -> 4040"
   ]
  },
  {
   "cell_type": "code",
   "execution_count": null,
   "id": "8f978779",
   "metadata": {},
   "outputs": [],
   "source": [
    "df_zones = spark.read \\\n",
    "                .option('header', 'true') \\\n",
    "                .csv('/home/yassersakr88/de-zoomcamp/5_batch/notebooks/taxi_zone_lookup.csv')\n",
    "df_zones.show()"
   ]
  },
  {
   "cell_type": "code",
   "execution_count": null,
   "id": "d44d2427",
   "metadata": {},
   "outputs": [],
   "source": [
    "df_zones.createOrReplaceTempView('trips_zones')"
   ]
  },
  {
   "cell_type": "code",
   "execution_count": null,
   "id": "11beba40",
   "metadata": {
    "scrolled": true
   },
   "outputs": [],
   "source": [
    "df_fhv.show()"
   ]
  },
  {
   "cell_type": "code",
   "execution_count": null,
   "id": "936d1447-90d0-4e11-87a7-98769032d82c",
   "metadata": {},
   "outputs": [],
   "source": [
    "df_fhv.columns"
   ]
  },
  {
   "cell_type": "code",
   "execution_count": null,
   "id": "4507a656-f644-4c60-bfbf-d5ac69597c48",
   "metadata": {},
   "outputs": [],
   "source": [
    "df_fhv_tmp = df_fhv.drop('dispatching_base_num', 'pickup_datetime', 'dropOff_datetime','DOlocationID', 'SR_Flag', 'Affiliated_base_number')"
   ]
  },
  {
   "cell_type": "code",
   "execution_count": null,
   "id": "bf87a84d",
   "metadata": {},
   "outputs": [],
   "source": [
    "df_location = df_fhv_tmp.join(df_zones, df_fhv_tmp.PUlocationID == df_zones.LocationID)\n",
    "df_location.show()"
   ]
  },
  {
   "cell_type": "code",
   "execution_count": null,
   "id": "83637f11-8013-4f8f-bacb-3f4b3b62fcba",
   "metadata": {},
   "outputs": [],
   "source": [
    "df_location.createOrReplaceTempView('trips_location')"
   ]
  },
  {
   "cell_type": "code",
   "execution_count": null,
   "id": "6972ba5f",
   "metadata": {},
   "outputs": [],
   "source": [
    "spark.sql(\"\"\"\n",
    "SELECT\n",
    "    Zone,\n",
    "    COUNT(1)\n",
    "FROM\n",
    "    trips_location\n",
    "GROUP BY \n",
    "    1\n",
    "ORDER BY\n",
    "    2 ASC\n",
    "\"\"\"\n",
    ").show()"
   ]
  },
  {
   "cell_type": "markdown",
   "id": "2095b5a7",
   "metadata": {},
   "source": [
    "### Question 6: \n",
    "\n",
    "**Least frequent pickup location zone**\n",
    "\n",
    "Load the zone lookup data into a temp view in Spark</br>\n",
    "[Zone Data](https://github.com/DataTalksClub/nyc-tlc-data/releases/download/misc/taxi_zone_lookup.csv)\n",
    "\n",
    "Using the zone lookup data and the FHV October 2019 data, what is the name of the LEAST frequent pickup location Zone?</br>\n",
    "\n",
    "- East Chelsea\n",
    "- Jamaica Bay\n",
    "- Union Sq\n",
    "- Crown Heights North\n",
    "\n",
    "#### Answer -> Jamaica Bay"
   ]
  },
  {
   "cell_type": "code",
   "execution_count": null,
   "id": "44301e6b-141f-44fc-9dee-15fb38e20926",
   "metadata": {},
   "outputs": [],
   "source": []
  }
 ],
 "metadata": {
  "kernelspec": {
   "display_name": "Python (myenv)",
   "language": "python",
   "name": "myenv"
  },
  "language_info": {
   "codemirror_mode": {
    "name": "ipython",
    "version": 3
   },
   "file_extension": ".py",
   "mimetype": "text/x-python",
   "name": "python",
   "nbconvert_exporter": "python",
   "pygments_lexer": "ipython3",
   "version": "3.12.3"
  }
 },
 "nbformat": 4,
 "nbformat_minor": 5
}
